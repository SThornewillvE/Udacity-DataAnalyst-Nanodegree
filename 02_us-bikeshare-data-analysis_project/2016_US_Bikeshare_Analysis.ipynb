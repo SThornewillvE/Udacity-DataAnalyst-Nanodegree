{
 "cells": [
  {
   "cell_type": "markdown",
   "metadata": {
    "nbpresent": {
     "id": "c2f504ed-15cb-4260-99b9-b7ea095fb7ff"
    }
   },
   "source": [
    "Github Repository can be found at: https://github.com/SThornewillvE/Udacity-Project---US-Bikeshare-Data-Analysis\n",
    "\n",
    "------"
   ]
  },
  {
   "cell_type": "markdown",
   "metadata": {
    "nbpresent": {
     "id": "3c75c71a-ca2c-41ab-aee9-e00473a26aed"
    }
   },
   "source": [
    "\n",
    "# Posing Questions\n",
    "\n",
    "## General Questions\n",
    "1. Which stations are the most popular?\n",
    "2. On what days and times do people use the bikeshares the most?\n",
    "3. How does use change depending on holidays?\n",
    "4. Is bikeshare use similar across cities?\n",
    "\n",
    "## Business Questions\n",
    "1. How many bikes should each bikeshare have available?\n",
    "2. What is the optimal driving time between bikeshare stations?"
   ]
  },
  {
   "cell_type": "markdown",
   "metadata": {
    "nbpresent": {
     "id": "7f641418-194a-4fa6-a945-531f205febec"
    }
   },
   "source": [
    "# Data Collection and Wrangling"
   ]
  },
  {
   "cell_type": "markdown",
   "metadata": {
    "nbpresent": {
     "id": "40d00424-2709-4dbb-abbf-81a51643dbd1"
    }
   },
   "source": [
    "## Previewing The Data\n",
    "\n",
    "As with all data analysis, it's a good idea to know the data a little bit such as what columns exist, what data exists inside these columns and if there is missing data."
   ]
  },
  {
   "cell_type": "code",
   "execution_count": 1,
   "metadata": {
    "nbpresent": {
     "id": "a4823c7e-2ea9-47e9-8989-0512b1635eb6"
    }
   },
   "outputs": [
    {
     "name": "stderr",
     "output_type": "stream",
     "text": [
      "/home/simon/anaconda3/lib/python3.6/site-packages/ggplot/utils.py:81: FutureWarning: pandas.tslib is deprecated and will be removed in a future version.\n",
      "You can access Timestamp as pandas.Timestamp\n",
      "  pd.tslib.Timestamp,\n",
      "/home/simon/anaconda3/lib/python3.6/site-packages/ggplot/stats/smoothers.py:4: FutureWarning: The pandas.lib module is deprecated and will be removed in a future version. These are private functions and can be accessed from pandas._libs.lib instead\n",
      "  from pandas.lib import Timestamp\n",
      "/home/simon/anaconda3/lib/python3.6/site-packages/statsmodels/compat/pandas.py:56: FutureWarning: The pandas.core.datetools module is deprecated and will be removed in a future version. Please use the pandas.tseries module instead.\n",
      "  from pandas.core import datetools\n"
     ]
    }
   ],
   "source": [
    "# Importing packages and functions\n",
    "import csv # reading and writing to CSV files\n",
    "import datetime # operations to parse dates\n",
    "from pprint import pprint # use to print data structures like dictionaries in\n",
    "                          # a nicer way than the base print function.\n",
    "import pandas as pd # converts CSV files into dataframes which are more \n",
    "                    # practical to use than plain text\n",
    "import numpy as np # performs calculations\n",
    "from ggplot import * # I know we're not supposed to do this but there is\n",
    "                     # no other way.\n",
    "import matplotlib as mpl # Still required to change the sizes of plots"
   ]
  },
  {
   "cell_type": "code",
   "execution_count": 2,
   "metadata": {
    "nbpresent": {
     "id": "8a085c00-e9cc-4837-8888-0cd2a3cdc9d8"
    }
   },
   "outputs": [
    {
     "name": "stdout",
     "output_type": "stream",
     "text": [
      "\n",
      "City: NYC\n",
      "OrderedDict([('tripduration', '839'),\n",
      "             ('starttime', '1/1/2016 00:09:55'),\n",
      "             ('stoptime', '1/1/2016 00:23:54'),\n",
      "             ('start station id', '532'),\n",
      "             ('start station name', 'S 5 Pl & S 4 St'),\n",
      "             ('start station latitude', '40.710451'),\n",
      "             ('start station longitude', '-73.960876'),\n",
      "             ('end station id', '401'),\n",
      "             ('end station name', 'Allen St & Rivington St'),\n",
      "             ('end station latitude', '40.72019576'),\n",
      "             ('end station longitude', '-73.98997825'),\n",
      "             ('bikeid', '17109'),\n",
      "             ('usertype', 'Customer'),\n",
      "             ('birth year', ''),\n",
      "             ('gender', '0')])\n",
      "\n",
      "City: Chicago\n",
      "OrderedDict([('trip_id', '9080545'),\n",
      "             ('starttime', '3/31/2016 23:30'),\n",
      "             ('stoptime', '3/31/2016 23:46'),\n",
      "             ('bikeid', '2295'),\n",
      "             ('tripduration', '926'),\n",
      "             ('from_station_id', '156'),\n",
      "             ('from_station_name', 'Clark St & Wellington Ave'),\n",
      "             ('to_station_id', '166'),\n",
      "             ('to_station_name', 'Ashland Ave & Wrightwood Ave'),\n",
      "             ('usertype', 'Subscriber'),\n",
      "             ('gender', 'Male'),\n",
      "             ('birthyear', '1990')])\n",
      "\n",
      "City: Washington\n",
      "OrderedDict([('Duration (ms)', '427387'),\n",
      "             ('Start date', '3/31/2016 22:57'),\n",
      "             ('End date', '3/31/2016 23:04'),\n",
      "             ('Start station number', '31602'),\n",
      "             ('Start station', 'Park Rd & Holmead Pl NW'),\n",
      "             ('End station number', '31207'),\n",
      "             ('End station', 'Georgia Ave and Fairmont St NW'),\n",
      "             ('Bike number', 'W20842'),\n",
      "             ('Member Type', 'Registered')])\n"
     ]
    }
   ],
   "source": [
    "def print_first_point(filename):\n",
    "    \"\"\"\n",
    "    This function prints and returns the first data point (second row) from\n",
    "    a csv file that includes a header row.\n",
    "    \"\"\"\n",
    "    # print city name for reference\n",
    "    city = filename.split('-')[0].split('/')[-1]\n",
    "    print('\\nCity: {}'.format(city))\n",
    "    \n",
    "    # Read the first from from the dataf file and store it in a variable\n",
    "    with open(filename, 'r') as f_in:\n",
    "        \n",
    "        # Use the csv library to set up a DictReader object.\n",
    "        trip_reader = csv.DictReader(f_in)\n",
    "        \n",
    "        #  Use a function on the DictReader object to read the\n",
    "        #  first trip from the data file and store it in a variable.\n",
    "        first_trip = next(trip_reader)\n",
    "        \n",
    "        #  Use the pprint library to print the first trip. \n",
    "        pprint(first_trip)\n",
    "        \n",
    "    # output city name and first trip for later testing\n",
    "    return (city, first_trip)\n",
    "\n",
    "# list of files for each city\n",
    "data_files = ['./data/NYC-CitiBike-2016.csv',\n",
    "              './data/Chicago-Divvy-2016.csv',\n",
    "              './data/Washington-CapitalBikeshare-2016.csv',]\n",
    "\n",
    "# print the first trip from each file, store in dictionary to check the code works\n",
    "example_trips = {}\n",
    "for data_file in data_files:\n",
    "    city, first_trip = print_first_point(data_file)\n",
    "    example_trips[city] = first_trip"
   ]
  },
  {
   "cell_type": "markdown",
   "metadata": {
    "nbpresent": {
     "id": "352be0a3-2792-4090-a8fc-8eafeccc292f"
    }
   },
   "source": [
    "It seems that the data contains information such as travel duration, the dates on which this travel occured, the starting and ending points, the bike ID and some information over the consumer.\n",
    "\n",
    "This data is not entirely homogenous between the CSV files. Hence, the columns will need to be transformed accordingly."
   ]
  },
  {
   "cell_type": "markdown",
   "metadata": {
    "nbpresent": {
     "id": "88642fdd-5f29-479b-b1b2-722713a6c82e"
    }
   },
   "source": [
    "## Condensing the Data\n",
    "\n",
    "As mentioned above, it is important so that the data becomes homogenous across datasets. This is going to be addressed in this section.\n",
    "\n",
    "This is going to be done by creating functions that converts the different values in the column into a homogneous form."
   ]
  },
  {
   "cell_type": "code",
   "execution_count": 3,
   "metadata": {
    "collapsed": true,
    "nbpresent": {
     "id": "e12b0ab3-27dc-4939-a2e8-6a21ec33573a"
    }
   },
   "outputs": [],
   "source": [
    "def duration_in_mins(datum, city):\n",
    "    \"\"\"\n",
    "    Takes as input a dictionary containing info about a single trip (datum) and\n",
    "    its origin city (city) and returns the trip duration in units of minutes.\n",
    "    \"\"\"\n",
    "    \n",
    "    # Look up trip duration\n",
    "    if city == 'NYC':\n",
    "        duration = int(datum['tripduration'])\n",
    "        \n",
    "    elif city == 'Chicago':\n",
    "        duration = int(datum['tripduration'])\n",
    "        \n",
    "    else:\n",
    "        duration = int(datum['Duration (ms)'])/1000\n",
    "    \n",
    "    return duration/60"
   ]
  },
  {
   "cell_type": "code",
   "execution_count": 4,
   "metadata": {
    "collapsed": true,
    "nbpresent": {
     "id": "8053818d-5540-43b4-a01d-cdbaa14dc4e0"
    }
   },
   "outputs": [],
   "source": [
    "def date_string_to_weekday(date):\n",
    "    \"\"\"\n",
    "    Takes date as a string in the form 'mm/dd/yyyy' and converts it\n",
    "    to a week day\n",
    "    \"\"\"\n",
    "    \n",
    "    #dictionary to convert weekday number to day of week\n",
    "    weekday_dictionary = {0: \"Monday\",\n",
    "                          1: \"Tuesday\",\n",
    "                          2: \"Wednesday\",\n",
    "                          3: \"Thursday\",\n",
    "                          4: \"Friday\",\n",
    "                          5: \"Saturday\",\n",
    "                          6: \"Sunday\"}\n",
    "    \n",
    "    #find weekday number\n",
    "    month, day, year = date.split('/')\n",
    "    week_day = datetime.datetime.weekday(datetime.date(int(year), \n",
    "                                                       int(month), \n",
    "                                                       int(day)))\n",
    "    \n",
    "    \n",
    "    return weekday_dictionary[week_day]\n",
    "\n",
    "def time_of_trip(datum, city):\n",
    "    \"\"\"\n",
    "    Takes as input a dictionary containing info about a single trip (datum) and\n",
    "    its origin city (city) and returns the month, hour, and day of the week in\n",
    "    which the trip was made.\n",
    "    \"\"\"\n",
    "\n",
    "    if city == 'NYC':\n",
    "        \n",
    "        # extract month\n",
    "        month =  datum['starttime'].split('/')[0]\n",
    "        \n",
    "        # extract hour\n",
    "        hour = datum['starttime'].split()[1].split(':')[0]\n",
    "        \n",
    "        # get day of week\n",
    "        day_of_week = date_string_to_weekday(datum['starttime'].split()[0])\n",
    "        \n",
    "    elif city == 'Chicago':\n",
    "        \n",
    "        # extract month\n",
    "        month =  datum['starttime'].split('/')[0]\n",
    "        \n",
    "        # extract hour\n",
    "        hour = datum['starttime'].split()[1].split(':')[0]\n",
    "        \n",
    "        # get day of week\n",
    "        day_of_week = date_string_to_weekday(datum['starttime'].split()[0])\n",
    "        \n",
    "    else:\n",
    "     \n",
    "        # extract month\n",
    "        month =  datum['Start date'].split('/')[0]\n",
    "        \n",
    "        # extract hour\n",
    "        hour = datum['Start date'].split()[1].split(':')[0]\n",
    "        \n",
    "        # get day of week\n",
    "        day_of_week = date_string_to_weekday(datum['Start date'].split()[0])\n",
    "    \n",
    "    return (int(month), int(hour), day_of_week)"
   ]
  },
  {
   "cell_type": "code",
   "execution_count": 5,
   "metadata": {
    "collapsed": true,
    "nbpresent": {
     "id": "c1b7fc11-8229-4371-84da-26700d296fab"
    }
   },
   "outputs": [],
   "source": [
    "def correct_member_type(user_type):\n",
    "    \"\"\"\n",
    "    Converts the user type for the Washington dataset so that it fits the other\n",
    "    datasets.\n",
    "    \"\"\"\n",
    "    # Dictionary for the conversion\n",
    "    user_type_dictionary = {\"Registered\":\"Subscriber\",\n",
    "                            \"Casual\":\"Customer\"}\n",
    "    \n",
    "    # Converting member type\n",
    "    new_user_type = user_type_dictionary[user_type]\n",
    "        \n",
    "    return new_user_type\n",
    "\n",
    "\n",
    "def type_of_user(datum, city):\n",
    "    \"\"\"\n",
    "    Takes as input a dictionary containing info about a single trip (datum) and\n",
    "    its origin city (city) and returns the type of system user that made the\n",
    "    trip.\n",
    "    \"\"\"\n",
    "    \n",
    "    if city == 'NYC': user_type = datum['usertype']\n",
    "    elif city == 'Chicago': user_type = datum['usertype']\n",
    "    else: user_type = correct_member_type(datum['Member Type'])\n",
    "     \n",
    "        \n",
    "    \n",
    "    return user_type"
   ]
  },
  {
   "cell_type": "markdown",
   "metadata": {
    "nbpresent": {
     "id": "59827144-f22a-4578-814c-e580d1abe7c9"
    }
   },
   "source": [
    "Now that all of the functions have been defined to condense the CSV files into the form as seen in ./examples."
   ]
  },
  {
   "cell_type": "code",
   "execution_count": 6,
   "metadata": {
    "collapsed": true,
    "nbpresent": {
     "id": "8dc848cf-6dc2-4772-971a-434d2c37a6c3"
    }
   },
   "outputs": [],
   "source": [
    "def condense_data(in_file, out_file, city):\n",
    "    \"\"\"\n",
    "    This function takes full data from the specified input file\n",
    "    and writes the condensed data to a specified output file. The city\n",
    "    argument determines how the input file will be parsed.\n",
    "    \n",
    "    HINT: See the cell below to see how the arguments are structured!\n",
    "    \"\"\"\n",
    "    \n",
    "    with open(out_file, 'w') as f_out, open(in_file, 'r') as f_in:\n",
    "        # Set up csv DictWriter object - writer requires column names for the\n",
    "        # First row as the \"fieldnames\" argument\n",
    "        out_colnames = ['duration', 'month', 'hour', 'day_of_week', 'user_type']        \n",
    "        trip_writer = csv.DictWriter(f_out, fieldnames = out_colnames)\n",
    "        trip_writer.writeheader()\n",
    "        trip_reader = csv.DictReader(f_in)\n",
    "        \n",
    "        #  Use a function on the DictReader object to read the\n",
    "        #  first trip from the data file and store it in a variable.\n",
    "        first_trip = next(trip_reader)\n",
    "        \n",
    "\n",
    "        \"\"\"\n",
    "        Variables I am working with because this function is a mess:\n",
    "            out_colnames\n",
    "        \"\"\"\n",
    "        \n",
    "        # Collect data from and process each row\n",
    "        for row in trip_reader:\n",
    "            # Set up a dictionary to hold the values for the cleaned and trimmed\n",
    "            # data points\n",
    "            new_point = {}\n",
    "            month, hour, day_of_week = time_of_trip(row, city)\n",
    "            new_point[out_colnames[0]] = duration_in_mins(row, city)\n",
    "            new_point[out_colnames[1]] = month\n",
    "            new_point[out_colnames[2]] = hour\n",
    "            new_point[out_colnames[3]] = day_of_week\n",
    "            new_point[out_colnames[4]] = type_of_user(row, city)\n",
    "            \n",
    "            # Write row to new csv file\n",
    "            trip_writer.writerow(new_point)\n",
    "            "
   ]
  },
  {
   "cell_type": "code",
   "execution_count": 7,
   "metadata": {
    "nbpresent": {
     "id": "eedf063e-87e6-4dc9-bfd0-fcc492f2286e"
    }
   },
   "outputs": [
    {
     "name": "stdout",
     "output_type": "stream",
     "text": [
      "\n",
      "City: Washington\n",
      "OrderedDict([('duration', '9.792516666666668'),\n",
      "             ('month', '3'),\n",
      "             ('hour', '22'),\n",
      "             ('day_of_week', 'Thursday'),\n",
      "             ('user_type', 'Subscriber')])\n",
      "\n",
      "City: Chicago\n",
      "OrderedDict([('duration', '3.3'),\n",
      "             ('month', '3'),\n",
      "             ('hour', '22'),\n",
      "             ('day_of_week', 'Thursday'),\n",
      "             ('user_type', 'Subscriber')])\n",
      "\n",
      "City: NYC\n",
      "OrderedDict([('duration', '11.433333333333334'),\n",
      "             ('month', '1'),\n",
      "             ('hour', '0'),\n",
      "             ('day_of_week', 'Friday'),\n",
      "             ('user_type', 'Subscriber')])\n"
     ]
    }
   ],
   "source": [
    "# Run this cell to check your work\n",
    "city_info = {'Washington': {'in_file': './data/Washington-CapitalBikeshare-2016.csv',\n",
    "                            'out_file': './data/Washington-2016-Summary.csv'},\n",
    "             'Chicago': {'in_file': './data/Chicago-Divvy-2016.csv',\n",
    "                         'out_file': './data/Chicago-2016-Summary.csv'},\n",
    "             'NYC': {'in_file': './data/NYC-CitiBike-2016.csv',\n",
    "                     'out_file': './data/NYC-2016-Summary.csv'}}\n",
    "\n",
    "for city, filenames in city_info.items():\n",
    "    condense_data(filenames['in_file'], filenames['out_file'], city)\n",
    "    print_first_point(filenames['out_file'])"
   ]
  },
  {
   "cell_type": "markdown",
   "metadata": {
    "nbpresent": {
     "id": "fc72562d-5e64-4196-9df9-9f37b28d90bf"
    }
   },
   "source": [
    "It seems that when you write a bunch of functions it is easier to break the code up. I also noticed that sometimes you tend to reuse functions which is quite handy."
   ]
  },
  {
   "cell_type": "markdown",
   "metadata": {
    "nbpresent": {
     "id": "73713386-476b-48d6-ac11-0696dd716378"
    }
   },
   "source": [
    "# Exploratory Data Analysis\n",
    "\n",
    "Now that the data has been munged, it is time to explore the data a little bit.\n",
    "\n",
    "I am going to be using Pandas instead of CSV from this point forward because I've demonstrated that I am able to use CSV. Pandas is clearly the superior library when it comes to handling data which is why I want to use that instead.\n",
    "\n",
    "I'll also be using ggplot instead of matplotlib because I want to explore using different packages. I'm a big fan of ggplot2 when using R which is why I'm curious to see how it works in Python."
   ]
  },
  {
   "cell_type": "markdown",
   "metadata": {
    "nbpresent": {
     "id": "c8fa2d95-8581-46da-8481-ed93690068a4"
    }
   },
   "source": [
    "## Number of Trips\n",
    "\n",
    "Firstly I want to investigate the following questions:\n",
    "\n",
    "* Which city has the highest number of trips? \n",
    "* Which city has the highest proportion of trips made by subscribers? \n",
    "* Which city has the highest proportion of trips made by short-term customers?\n",
    "\n",
    "This means that a function that counts the number of trips will have to be written"
   ]
  },
  {
   "cell_type": "code",
   "execution_count": 8,
   "metadata": {
    "collapsed": true,
    "nbpresent": {
     "id": "151d6642-17f2-4a05-aba0-71f366a18348"
    }
   },
   "outputs": [],
   "source": [
    "def number_of_trips(filename):\n",
    "    \"\"\"\n",
    "    This function reads in a file with trip data and reports the number of\n",
    "    trips made by subscribers, customers, and total overall.\n",
    "    \"\"\"\n",
    "    \n",
    "    # Create dataframe\n",
    "    df = pd.read_csv(filename)\n",
    "    \n",
    "    # initialize count variables\n",
    "    n_subscribers = len(df[df['user_type']=='Subscriber'])\n",
    "    n_customers = len(df[df['user_type']=='Customer'])\n",
    "    \n",
    "    # compute total number of rides\n",
    "    n_total = n_subscribers + n_customers\n",
    "\n",
    "    # return tallies as a tuple\n",
    "    return(n_subscribers, n_customers, n_total)"
   ]
  },
  {
   "cell_type": "markdown",
   "metadata": {
    "nbpresent": {
     "id": "be94ae7e-5dc1-4db6-a6cf-b44abb694119"
    }
   },
   "source": [
    "If you compare this cell to the corresponding one in Bike_Share_Analysis.ipynb, you'll see why I'm opting to use Pandas instead. It's much less of a headache to deal with."
   ]
  },
  {
   "cell_type": "code",
   "execution_count": 9,
   "metadata": {
    "nbpresent": {
     "id": "f75f1828-b7f8-40ca-a180-a24fca6314d6"
    }
   },
   "outputs": [
    {
     "name": "stdout",
     "output_type": "stream",
     "text": [
      "./data/NYC-2016-Summary.csv : \n",
      "\n",
      "n_subscribers:  245896\n",
      "n_customers:  30184\n",
      "n_total:  276080\n",
      "proportion subscribers:  0.8906693711967546\n",
      "proportion customers:  0.10933062880324544\n",
      "\n",
      "\n",
      "./data/Chicago-2016-Summary.csv : \n",
      "\n",
      "n_subscribers:  54981\n",
      "n_customers:  17149\n",
      "n_total:  72130\n",
      "proportion subscribers:  0.7622487175932344\n",
      "proportion customers:  0.23775128240676557\n",
      "\n",
      "\n",
      "./data/Washington-2016-Summary.csv : \n",
      "\n",
      "n_subscribers:  51752\n",
      "n_customers:  14573\n",
      "n_total:  66325\n",
      "proportion subscribers:  0.780278929513758\n",
      "proportion customers:  0.21972107048624198\n",
      "\n",
      "\n"
     ]
    }
   ],
   "source": [
    "## Modify this and the previous cell to answer Question 4a. Remember to run ##\n",
    "## the function on the cleaned data files you created from Question 3.      ##\n",
    "\n",
    "filepaths = ['./data/NYC-2016-Summary.csv', \n",
    "             './data/Chicago-2016-Summary.csv', \n",
    "             './data/Washington-2016-Summary.csv']\n",
    "\n",
    "\n",
    "for path in filepaths:\n",
    "    print(path,\": \\n\")\n",
    "    n_subscribers, n_customers, n_total = number_of_trips(path)\n",
    "    print(\"n_subscribers: \", n_subscribers)\n",
    "    print(\"n_customers: \", n_customers)\n",
    "    print(\"n_total: \", n_total)\n",
    "    print(\"proportion subscribers: \", n_subscribers/n_total)\n",
    "    print(\"proportion customers: \", n_customers/n_total)\n",
    "    print(\"\\n\")\n",
    "    "
   ]
  },
  {
   "cell_type": "markdown",
   "metadata": {
    "nbpresent": {
     "id": "9566c12f-5e82-47fd-9e68-4937de2f1fa9"
    }
   },
   "source": [
    "Hence, NYC has the highest number of trips with more than Chicago and Washington combined. Of the three cities, NYC has the highest proportion of subscribers while Chicago has the highest proportion of customers.\n",
    "\n",
    "Although Chicago has the lowest subscriber rate, it does not have the lowest number of users which suggests that the proportion of subscriptions may not be correlated with the total number of clients.\n",
    "\n",
    "It should also be noted that Chicago and Washington seem to have consistent values where as NYC seems to have a much larger market for Bikesharing. NYC's large market may be due to larger population density where the congestion requires people to find transportation that is flexible and convienient even during rush hour.\n",
    "\n",
    "It is also worth noting that cities with higher populations in general should also have more people using bikeshare services, this is why it is important to make sure that observations are relative and not absolute. "
   ]
  },
  {
   "cell_type": "markdown",
   "metadata": {
    "nbpresent": {
     "id": "5beeb42a-0925-49c8-b49d-64558b74bc17"
    }
   },
   "source": [
    "## Travel Time Stats\n",
    "\n",
    "Next, I want to take a look at these questions:\n",
    "\n",
    "* What is the average trip length for each city? \n",
    "* What proportion of rides made in each city are longer than 30 minutes?"
   ]
  },
  {
   "cell_type": "code",
   "execution_count": 10,
   "metadata": {
    "collapsed": true,
    "nbpresent": {
     "id": "a634f87e-f1cc-4ef5-b86f-a992df580ad1"
    }
   },
   "outputs": [],
   "source": [
    "def travel_time_stats(filename):\n",
    "    \"\"\"\n",
    "    This function calculates the average travel time of the CSV summaries.\n",
    "    Input is the file path and the returned value is a float.\n",
    "    \"\"\"\n",
    "    \n",
    "    # Create dataframe\n",
    "    df = pd.read_csv(filename)\n",
    "    \n",
    "    # Calculate average\n",
    "    average = np.average(df['duration'])\n",
    "    \n",
    "    # Calculate proportion of rides above 30 mins\n",
    "    proportion = len(df[df['duration']>30])/len(df)\n",
    "\n",
    "    return average, proportion"
   ]
  },
  {
   "cell_type": "markdown",
   "metadata": {
    "nbpresent": {
     "id": "ef216193-6bce-4930-9105-8a10738c448e"
    }
   },
   "source": [
    "Now that the function to calculate the average travel time is complete, let's have a look at what the values are."
   ]
  },
  {
   "cell_type": "code",
   "execution_count": 11,
   "metadata": {
    "nbpresent": {
     "id": "68d1355e-2db4-4988-9d8d-07386b18973e"
    }
   },
   "outputs": [
    {
     "name": "stdout",
     "output_type": "stream",
     "text": [
      "./data/NYC-2016-Summary.csv : \n",
      "\n",
      "average travel time (min):  15.8125996067\n",
      "proportion over 30 mins:  0.07302463538260892\n",
      "\n",
      "\n",
      "./data/Chicago-2016-Summary.csv : \n",
      "\n",
      "average travel time (min):  16.563645039\n",
      "proportion over 30 mins:  0.08332178011922917\n",
      "\n",
      "\n",
      "./data/Washington-2016-Summary.csv : \n",
      "\n",
      "average travel time (min):  18.933051618\n",
      "proportion over 30 mins:  0.10839050131926121\n",
      "\n",
      "\n"
     ]
    }
   ],
   "source": [
    "## Modify this and the previous cell to answer Question 4b. ##\n",
    "\n",
    "filepaths = ['./data/NYC-2016-Summary.csv', \n",
    "             './data/Chicago-2016-Summary.csv', \n",
    "             './data/Washington-2016-Summary.csv']\n",
    "\n",
    "# Display the data created by population_overtime function\n",
    "for path in filepaths:    \n",
    "    average_travel, proportion_overtime = travel_time_stats(path)\n",
    "    print(path,\": \\n\")\n",
    "    print(\"average travel time (min): \", average_travel)\n",
    "    print(\"proportion over 30 mins: \", proportion_overtime)\n",
    "    print(\"\\n\")\n",
    "    "
   ]
  },
  {
   "cell_type": "markdown",
   "metadata": {
    "nbpresent": {
     "id": "81fb73d2-9a92-4798-b3b9-e6d9f490f01e"
    }
   },
   "source": [
    "The above data seems to strongly suggest that travel distances in Washington are much higher than in NYC. Although, it would still be interesting to visualise the data using a histogram to more intuitively gain a grasp for the spread of the data and whether there is a skew for longer or shorter journeys.\n",
    "\n",
    "The data above can be used to gain a vague picture of what these histograms would look like, where the averages are a measure of central tendency and the proportion of rides over 30 minutes long is a proxy for the spread of the data."
   ]
  },
  {
   "cell_type": "markdown",
   "metadata": {
    "nbpresent": {
     "id": "75863e53-c939-48a3-838e-ebb8e9c62694"
    }
   },
   "source": [
    "## Proportion Overtime\n",
    "\n",
    "Next, I would like to look deeper into which type of user takes longer rides on average within Washington. \n",
    "* There are a significant number of people who are taking longer rides, but is this because of a many \"one off\" events?"
   ]
  },
  {
   "cell_type": "code",
   "execution_count": 12,
   "metadata": {
    "collapsed": true,
    "nbpresent": {
     "id": "85952874-6d84-4955-8fcf-2b30c79175c1"
    }
   },
   "outputs": [],
   "source": [
    "def proportion_overtime(filename):\n",
    "    \"\"\"\n",
    "    This function calculates the proportion of subscribers relative to \n",
    "    total clients' travel time where the duration of the trip is higher \n",
    "    than 30 of the CSV summaries. Input is the file path and the returned \n",
    "    value is a float.\n",
    "    \"\"\"\n",
    "    \n",
    "    # Create dataframe\n",
    "    df = pd.read_csv(filename)\n",
    "    \n",
    "    # Filter dataframe to contain longer rides\n",
    "    df2 = df[df['duration']>30]\n",
    "    \n",
    "    # Calculate proportion subscribers and customer\n",
    "    p_customer = len(df2[df2['user_type'] == 'Customer'])/len(df2)\n",
    "    p_subscriber = len(df2[df2['user_type'] == 'Subscriber'])/len(df2)\n",
    "\n",
    "    return p_customer, p_subscriber"
   ]
  },
  {
   "cell_type": "markdown",
   "metadata": {
    "nbpresent": {
     "id": "89dbf524-20b7-4133-a072-b68e87e9ef0b"
    }
   },
   "source": [
    "And now to look at the results:"
   ]
  },
  {
   "cell_type": "code",
   "execution_count": 13,
   "metadata": {
    "nbpresent": {
     "id": "19048088-0088-4688-af22-5d188e23cd90"
    }
   },
   "outputs": [
    {
     "name": "stdout",
     "output_type": "stream",
     "text": [
      "./data/Washington-2016-Summary.csv : \n",
      "\n",
      "Proportion Customers:  0.7907914869940187\n",
      "Proportion Subscribers:  0.20920851300598137\n",
      "\n",
      "\n"
     ]
    }
   ],
   "source": [
    "## Modify this and the previous cell to answer Question 4c. ##\n",
    "\n",
    "filepaths = ['./data/NYC-2016-Summary.csv', \n",
    "             './data/Chicago-2016-Summary.csv', \n",
    "             './data/Washington-2016-Summary.csv']\n",
    "\n",
    "# Display the data created by porportion_overtime function\n",
    "for path in filepaths: \n",
    "    if path != filepaths[2]: continue # Remove this line to see proportions for each city\n",
    "    p_customer, p_subscriber = proportion_overtime(path)\n",
    "    print(path,\": \\n\")\n",
    "    print(\"Proportion Customers: \", p_customer)\n",
    "    print(\"Proportion Subscribers: \", p_subscriber)\n",
    "    print(\"\\n\")\n",
    "    "
   ]
  },
  {
   "cell_type": "markdown",
   "metadata": {
    "nbpresent": {
     "id": "3b5360d9-4cd7-486c-81b5-059f2c4df436"
    }
   },
   "source": [
    "This result makes sense because if one was to take a long journey regularly then one would either plan to use some form of public transportation, buy a car or buy their own bike. (Although there are still reasons why you would want a subscription over having your own bike, the customer would not need to worry about storage, security and maintainance for example.)\n",
    "\n",
    "After quickly checking the values for all cities, it would seem that a large proportion of subscribers travel distances longer than 30 minutes relative to Chicago and Washington. This suggests that there is something exceptional about NYC which causes it to follow different trends from other cities."
   ]
  },
  {
   "cell_type": "markdown",
   "metadata": {
    "nbpresent": {
     "id": "011df478-e438-435b-b9da-610422746857"
    }
   },
   "source": [
    "# Visualisations\n",
    "\n",
    "As mentioned above, it would be interesting to see a histograph showing the distribution of trip durations. We'll tackle that using ggplot below. (The package was imported at the start of this notebook)"
   ]
  },
  {
   "cell_type": "code",
   "execution_count": 14,
   "metadata": {
    "collapsed": true,
    "nbpresent": {
     "id": "1b0bc97a-9421-4fcc-b780-0cf537d9ae43"
    }
   },
   "outputs": [],
   "source": [
    "def convert_weekdays(df, week_days):\n",
    "    \"\"\"\n",
    "    This function converts the weekdays into numbers so that\n",
    "    they don't get sorted by alphabetical order in ggplot\n",
    "    \"\"\"\n",
    "    \n",
    "    \n",
    "    # Replace weekdays w/ numbers\n",
    "    for i in week_days.keys():\n",
    "        df[df['day_of_week']==i] = week_days[i]\n",
    "    \n",
    "    return df\n",
    "    "
   ]
  },
  {
   "cell_type": "markdown",
   "metadata": {
    "nbpresent": {
     "id": "5b0d9b76-9950-45c9-ae22-befe6aa2cbaf"
    }
   },
   "source": [
    "## Histogram of trip times for Subscribers & Customers"
   ]
  },
  {
   "cell_type": "code",
   "execution_count": 15,
   "metadata": {
    "nbpresent": {
     "id": "6ae5f988-e2a5-4625-8ab4-f8b60683dec9"
    }
   },
   "outputs": [],
   "source": [
    "def create_histogram(filename, ylabel, column='duration', n_bins=100, \n",
    "                     facet=False, x_facet='month', y_facet='user_type', \n",
    "                     x_axis_limit=350):\n",
    "\n",
    "    # Import the dataframe\n",
    "    df = pd.read_csv(filename)\n",
    "    \n",
    "    # Change day to number\n",
    "    week_days = {'Monday': 1,\n",
    "                'Tuesday': 2,\n",
    "                'Wednesday': 3,\n",
    "                'Thursday': 4,\n",
    "                'Friday': 5,\n",
    "                'Saturday': 6,\n",
    "                'Sunday': 7}\n",
    "    \n",
    "    for weekday in week_days:\n",
    "        df = df.replace(weekday, week_days[weekday])\n",
    "    \n",
    "    # Limit x_axis\n",
    "    df = df[df[column]<x_axis_limit]\n",
    "    \n",
    "    # Create plot\n",
    "    if not facet:\n",
    "        plot = ggplot(aes(x=column), data=df)+\\\n",
    "        geom_histogram(bins=n_bins, colour='black', fill='darkblue', alpha=.7) +\\\n",
    "        xlab(column) + ylab('frequency')+\\\n",
    "        ggtitle(\"Distribution of travel duration\")\n",
    "        plot.show()\n",
    "    # If Facet\n",
    "    else: \n",
    "        plot = ggplot(aes(x=column), data=df) +\\\n",
    "        geom_histogram(bins=(n_bins), color='black', fill='darkgreen', alpha=.4) +\\\n",
    "        ggtitle('Distribution of travel duration')+\\\n",
    "        xlab('Duration (minutes)') +\\\n",
    "        ylab('Frequency') +\\\n",
    "        xlim(0, x_axis_limit)+\\\n",
    "        facet_grid(x_facet, y_facet, scales='free_y')\n",
    "        plot.show()"
   ]
  },
  {
   "cell_type": "code",
   "execution_count": 16,
   "metadata": {
    "nbpresent": {
     "id": "919f3dfa-d46e-4d9b-a5f5-a065eeb56aed"
    }
   },
   "outputs": [
    {
     "data": {
      "image/png": "[encoded data removed]",
      "text/plain": [
       "<matplotlib.figure.Figure at 0x7f2da2a6f2e8>"
      ]
     },
     "metadata": {},
     "output_type": "display_data"
    }
   ],
   "source": [
    "create_histogram('./data/Washington-2016-Summary.csv', \"Frequency\", facet=True, x_facet=None, x_axis_limit=75, n_bins=15)"
   ]
  },
  {
   "cell_type": "markdown",
   "metadata": {
    "nbpresent": {
     "id": "bd8b2627-2e99-40d7-a3ec-5ebb050937e6"
    }
   },
   "source": [
    "*Note: When faceting is turned on the y-scale has been freed. This means that although it seems that the plots above have the same maximum, one is actually roughly 8 times the scale of the other.*"
   ]
  },
  {
   "cell_type": "markdown",
   "metadata": {
    "nbpresent": {
     "id": "de16c508-7a4a-45ca-bf5d-5bc3b744b93c"
    }
   },
   "source": [
    "The peak of the distributions are at bins (15,20] and (5,10] for customers and subscribers respectively. The peak for the subscribers is much higher which shows that customers tend to have a greater variance in their riding duration wheras subscribers tend to have shorter rides.\n",
    "\n",
    "I would say that the distribution is a [log-normal distribution](https://en.wikipedia.org/wiki/Log-normal_distribution), which is characterized by a quick rise in frequency followed by a steady drop off in values causing a [skew](https://en.wikipedia.org/wiki/Skew_normal_distribution) in the distribution.\n",
    "\n",
    "From the visualisation it is also possible to see that customers tend to use the bikeshare service to travel for longer durations than subscribers do, who mostly seem to use it for short jouneys. This might be because subscribers have \"favorite\" routes that factor into their commutes"
   ]
  },
  {
   "cell_type": "markdown",
   "metadata": {},
   "source": [
    "# Self directed Analysis"
   ]
  },
  {
   "cell_type": "markdown",
   "metadata": {
    "nbpresent": {
     "id": "19d1793d-de55-4569-91ce-8a16ba91c144"
    }
   },
   "source": [
    "## Faceting travel duration by by hour, month and day\n",
    "\n",
    "### Faceting by Month"
   ]
  },
  {
   "cell_type": "code",
   "execution_count": 17,
   "metadata": {
    "nbpresent": {
     "id": "7a1def03-d124-4f3d-92dd-661025b22276"
    },
    "scrolled": false
   },
   "outputs": [
    {
     "data": {
      "image/png": "[encoded data removed]",
      "text/plain": [
       "<matplotlib.figure.Figure at 0x7f2da2a67898>"
      ]
     },
     "metadata": {},
     "output_type": "display_data"
    }
   ],
   "source": [
    "create_histogram('./data/Washington-2016-Summary.csv','Frequency', \n",
    "                 facet=True, x_facet='month', y_facet='user_type', \n",
    "                 x_axis_limit=75, n_bins=15)"
   ]
  },
  {
   "cell_type": "markdown",
   "metadata": {
    "nbpresent": {
     "id": "a7270f07-33c6-49fb-9f23-5d6a89145406"
    }
   },
   "source": [
    "*Note: When faceting is turned on the y-scale has been freed.*"
   ]
  },
  {
   "cell_type": "markdown",
   "metadata": {
    "nbpresent": {
     "id": "20529684-eba0-4062-b667-794ced5a5774"
    }
   },
   "source": [
    "### Faceting by Hour\n",
    "\n",
    "The above plot suggests that subscribers tend to use the bikeshare at different points of time. Spring/Summer (3-7) seems the time when subscribers tend to use the bikeshare service the most, although there are many people who like to use the bike during december. These times coincide strongly with times when people are taking vacations. (Perhaps customers are in school/university?)\n",
    "\n",
    "Customers, on the other hand, tend to use the bikeshare service all year around for sporadic trips that may take longer than usual."
   ]
  },
  {
   "cell_type": "code",
   "execution_count": 18,
   "metadata": {
    "nbpresent": {
     "id": "5f90b671-1517-4289-af08-7cfe14b5139d"
    }
   },
   "outputs": [
    {
     "data": {
      "image/png": "[encoded data removed]",
      "text/plain": [
       "<matplotlib.figure.Figure at 0x7f2da1921080>"
      ]
     },
     "metadata": {},
     "output_type": "display_data"
    }
   ],
   "source": [
    "create_histogram('./data/Washington-2016-Summary.csv', 'Frequency',\n",
    "                 facet=True, x_facet='hour', y_facet='user_type', \n",
    "                 x_axis_limit=75, n_bins=15)"
   ]
  },
  {
   "cell_type": "markdown",
   "metadata": {
    "nbpresent": {
     "id": "0e0ba48f-fdd1-430d-ba8b-a524a967a86d"
    }
   },
   "source": [
    "*Note: When faceting is turned on the y-scale has been freed.*"
   ]
  },
  {
   "cell_type": "markdown",
   "metadata": {
    "nbpresent": {
     "id": "4bbe562f-3556-49f6-b197-7aaf306edf63"
    }
   },
   "source": [
    "### Faceting by day (sorted)\n",
    "\n",
    "By changing the facet setting to month, it is also possible to see that the subcribers tend to use the service around rush hour which backs up my previous hypothesis that subscribers tend to use the service around rush hour, whereas customers tend to use it regularly throughout the day."
   ]
  },
  {
   "cell_type": "code",
   "execution_count": 19,
   "metadata": {
    "nbpresent": {
     "id": "8ca9785c-9db8-40b5-8fa7-d18a648a6599"
    }
   },
   "outputs": [
    {
     "data": {
      "image/png": "[encoded data removed]",
      "text/plain": [
       "<matplotlib.figure.Figure at 0x7f2da20fb710>"
      ]
     },
     "metadata": {},
     "output_type": "display_data"
    }
   ],
   "source": [
    "create_histogram('./data/Washington-2016-Summary.csv', 'Frequency',\n",
    "                 facet=True, x_facet='day_of_week', y_facet='user_type', \n",
    "                 x_axis_limit=75, n_bins=15)"
   ]
  },
  {
   "cell_type": "markdown",
   "metadata": {
    "nbpresent": {
     "id": "ad5692ff-a0bc-4e5b-ad57-5442b45f77b0"
    }
   },
   "source": [
    "*Note: When faceting is turned on the y-scale has been freed.*"
   ]
  },
  {
   "cell_type": "markdown",
   "metadata": {
    "nbpresent": {
     "id": "335a6992-b2d6-411f-9e7a-d1d32c2e9a7a"
    }
   },
   "source": [
    "Where 1: 'Monday', 2: 'Tuesday', etc.\n",
    "\n",
    "In any case, subscribers tend to use the bikeshare service throughout the week whereas customers only really use it on the weekends. This suggests that subcribers tend to use the bikeshare service because they have a vested interest in it wheras customers will only use it when they are doing things that are less routine.\n",
    "\n",
    "Overall, I would say that the shape of each distribution looks very similar to a normal distribution with some variances being rather wide and some means being very close to 0. (If you increase the granularity of the data you'll see that there is a right skew because of outliers using the bikeshare system for long amounts of time.)"
   ]
  },
  {
   "cell_type": "markdown",
   "metadata": {
    "nbpresent": {
     "id": "878035b3-d0c6-4023-b563-e6a488f2f6b5"
    }
   },
   "source": [
    "## Calculating Subscriber:Customer ratio through the year\n",
    "\n",
    "Finally, I just want to see what the subscriber:customer ratio looks like throughout the year. It is possible to get a feel for this by looking at the plots in  section 4.2, the facets in that section are very informative and fives a quick and intuitive feel for the data in my opinion but I just wanted to take this extra step further just to make sure it is done.\n",
    "\n",
    "The steps I will take will be to make a dictionary that contains each month as a key and then each value will be the calculated ratio.\n",
    "\n",
    "I will then convert this dictionary to a dataframe using pandas and then create a bar chart using ggplot."
   ]
  },
  {
   "cell_type": "code",
   "execution_count": 20,
   "metadata": {
    "nbpresent": {
     "id": "2a32995f-676d-4054-b70c-8dd95b3fa150"
    }
   },
   "outputs": [
    {
     "name": "stdout",
     "output_type": "stream",
     "text": [
      "{'month': [1, 2, 3, 4, 5, 6, 7, 8, 9, 10, 11, 12], 'sub_cust_ratio': [9.963963963963964, 9.084805653710248, 3.6885521885521886, 3.6996644295302015, 3.621794871794872, 3.288224956063269, 2.358188472095151, 2.985603543743079, 3.108721624850657, 3.353846153846154, 3.8502325581395347, 6.763888888888889]}\n"
     ]
    }
   ],
   "source": [
    "def calculate_subscriber_ratio(path):\n",
    "    \"\"\"\n",
    "    This function calculates the subscriber:customer ratio for each month within a CSV file,\n",
    "    returns a dictionary.\n",
    "    \"\"\"\n",
    "    \n",
    "    # import dataframe\n",
    "    df = pd.read_csv(path)\n",
    "    \n",
    "    # create empty dictionary\n",
    "    dict_for_df = {'month': [],\n",
    "                   'sub_cust_ratio': []}\n",
    "    \n",
    "    # fill dictionary with values\n",
    "    for month in range(12):\n",
    "        month+=1\n",
    "        df2 = df[df['month']==month]\n",
    "        customers_Month = len(df2[df2['user_type']=='Customer'])\n",
    "        subscribers_Month = len(df2[df2['user_type']=='Subscriber'])\n",
    "        dict_for_df['month'].append(month)\n",
    "        dict_for_df['sub_cust_ratio'].append(subscribers_Month/customers_Month)        \n",
    "    return dict_for_df\n",
    "    \n",
    "# Test function\n",
    "print(calculate_subscriber_ratio('./data/Washington-2016-Summary.csv'))"
   ]
  },
  {
   "cell_type": "code",
   "execution_count": 21,
   "metadata": {
    "collapsed": true,
    "nbpresent": {
     "id": "eba25e27-6668-4b67-b0cd-51d35b5e420c"
    }
   },
   "outputs": [],
   "source": [
    "def create_barchart(dictionary):\n",
    "    \n",
    "    # Create Dataframe\n",
    "    df = pd.DataFrame(dictionary)\n",
    "    \n",
    "    # Create plot\n",
    "    %matplotlib inline\n",
    "    plot = ggplot(aes(x='month', y='sub_cust_ratio'), data=df) +\\\n",
    "    geom_point(color='darkblue') +\\\n",
    "    xlab(\"Month\") + ylab(\"Subscriber:Customer Ratio\")+\\\n",
    "    ggtitle(\"Subscriber:Customer Ratio as a function of month\")\n",
    "    plot.show()"
   ]
  },
  {
   "cell_type": "code",
   "execution_count": 22,
   "metadata": {
    "nbpresent": {
     "id": "247e7f0b-ffcb-4359-9ee4-4adb6e660192"
    }
   },
   "outputs": [
    {
     "data": {
      "image/png": "[encoded data removed]",
      "text/plain": [
       "<matplotlib.figure.Figure at 0x7f2d99f3bf28>"
      ]
     },
     "metadata": {},
     "output_type": "display_data"
    }
   ],
   "source": [
    "newdict = calculate_subscriber_ratio('./data/Washington-2016-Summary.csv')\n",
    "create_barchart(newdict)"
   ]
  },
  {
   "cell_type": "markdown",
   "metadata": {
    "nbpresent": {
     "id": "03b0ba75-52fd-484f-8caa-5d5d9992d7d6"
    }
   },
   "source": [
    "From the above plot it is evident that Subcribers tend to be more common users of the Bikeshare service, however, this membership spikes around nweyear. This is likely because as the new year approaches, subscribers are renewing their memberships.\n",
    "\n",
    "Although most subscribers wait until after the newyear to buy their new subscription after it has expired, there are a couple of \"early birds\" who buy their memberships on december. "
   ]
  },
  {
   "cell_type": "markdown",
   "metadata": {
    "nbpresent": {
     "id": "1528f466-bd0a-4e8e-a88a-90ffc90f12d8"
    }
   },
   "source": [
    "# Conclusion\n",
    "\n",
    "It took a while to work through everything but the data really did reveal a lot of things which are relevant in a business setting.\n",
    "\n",
    "Most of my questions required more complicated analysis such as trying to use geographic locations to optimize the location of bikeshare stations, they were a little too abitious for this analysis.\n",
    "\n",
    "This analysis came to the following conclusions:\n",
    "* NYC has the highest number of subscribers and total users\n",
    "* The average travel time is roughly 15 minutes\n",
    "* There are a couple of outliers where people rent the bike for days at a time.\n",
    "* Most customers are subscribers (80%)\n",
    "* Customers ride their bikes for longer times than Subscribers\n",
    "* Subscribers and Customers use the bikes most during holidays (Summer, Christmas)\n",
    "* Subscribers will use their bikes during rush hour\n",
    "* Customers use bikes ar their own leisure\n",
    "* Customers prefer to ride on the weekend\n",
    "* Subscribers use their bikes consistently through the week\n",
    "* Subscribers renew their memberships around new-year\n",
    "\n",
    "This is actually quite a lot of finding consider that the data that we used wasn't incredibly extensive. It really shows howm much the data speaks when you take the time to get to know it.\n",
    "\n",
    "*Where do I want to use these skills?*\n",
    "\n",
    "I personally want to use these skills to analyze open data that can be found on the internet. There are all sorts of things such as social media sentiment, economic data from the World Bank/OECD or on wellbeing (UNICEF)"
   ]
  }
 ],
 "metadata": {
  "kernelspec": {
   "display_name": "Python [default]",
   "language": "python",
   "name": "python3"
  },
  "language_info": {
   "codemirror_mode": {
    "name": "ipython",
    "version": 3
   },
   "file_extension": ".py",
   "mimetype": "text/x-python",
   "name": "python",
   "nbconvert_exporter": "python",
   "pygments_lexer": "ipython3",
   "version": "3.6.2"
  },
  "nbpresent": {
   "slides": {
    "093fcec6-5b35-4d0e-81b0-3bf1631417c2": {
     "id": "093fcec6-5b35-4d0e-81b0-3bf1631417c2",
     "prev": "608f7716-5041-46b6-a82f-c74c2c855451",
     "regions": {
      "a2d24878-ab08-40f5-acd5-f07263a4d9d1": {
       "attrs": {
        "height": 0.8,
        "width": 0.8,
        "x": 0.1,
        "y": 0.1
       },
       "content": {
        "cell": "f75f1828-b7f8-40ca-a180-a24fca6314d6",
        "part": "whole"
       },
       "id": "a2d24878-ab08-40f5-acd5-f07263a4d9d1"
      }
     }
    },
    "0be82f17-42b4-4a6e-aa55-e79db4b8e73e": {
     "id": "0be82f17-42b4-4a6e-aa55-e79db4b8e73e",
     "prev": "093fcec6-5b35-4d0e-81b0-3bf1631417c2",
     "regions": {
      "6db03397-d76c-4e49-a9aa-90d4159700ac": {
       "attrs": {
        "height": 0.8,
        "width": 0.8,
        "x": 0.1,
        "y": 0.1
       },
       "content": {
        "cell": "9566c12f-5e82-47fd-9e68-4937de2f1fa9",
        "part": "whole"
       },
       "id": "6db03397-d76c-4e49-a9aa-90d4159700ac"
      }
     }
    },
    "11cf8826-bc70-4450-aeaf-2e943882ea66": {
     "id": "11cf8826-bc70-4450-aeaf-2e943882ea66",
     "prev": "c93baf16-385b-4929-9e78-0e52655486bd",
     "regions": {
      "4169b950-b461-4c61-b50f-c0838c91a6c4": {
       "attrs": {
        "height": 0.8,
        "width": 0.8,
        "x": 0.1,
        "y": 0.1
       },
       "content": {
        "cell": "151d6642-17f2-4a05-aba0-71f366a18348",
        "part": "whole"
       },
       "id": "4169b950-b461-4c61-b50f-c0838c91a6c4"
      }
     }
    },
    "1bfc082c-7611-4714-9934-7e6687ecc43b": {
     "id": "1bfc082c-7611-4714-9934-7e6687ecc43b",
     "prev": "cedac62c-af0e-4e6f-b6e2-8f8b0fb42294",
     "regions": {
      "771532a8-4cd9-45e1-8978-0ef3ba0003ad": {
       "attrs": {
        "height": 0.8,
        "width": 0.8,
        "x": 0.1,
        "y": 0.1
       },
       "content": {
        "cell": "19d1793d-de55-4569-91ce-8a16ba91c144",
        "part": "whole"
       },
       "id": "771532a8-4cd9-45e1-8978-0ef3ba0003ad"
      }
     }
    },
    "27329fe3-13e6-459d-91f5-6d0b3e5dac79": {
     "id": "27329fe3-13e6-459d-91f5-6d0b3e5dac79",
     "prev": "cfe52c53-13ce-42c1-bdc2-a77be4a28bdf",
     "regions": {
      "d3b24150-0852-417f-9519-fc87b56ec6bd": {
       "attrs": {
        "height": 0.8,
        "width": 0.8,
        "x": 0.1,
        "y": 0.1
       },
       "content": {
        "cell": "81fb73d2-9a92-4798-b3b9-e6d9f490f01e",
        "part": "whole"
       },
       "id": "d3b24150-0852-417f-9519-fc87b56ec6bd"
      }
     }
    },
    "2d2ea516-450d-424d-8945-4bf59aa1e9ae": {
     "id": "2d2ea516-450d-424d-8945-4bf59aa1e9ae",
     "prev": "1bfc082c-7611-4714-9934-7e6687ecc43b",
     "regions": {
      "5e15fc47-57a3-46df-8284-27e8f071fcb9": {
       "attrs": {
        "height": 0.8,
        "width": 0.8,
        "x": 0.1,
        "y": 0.1
       },
       "content": {
        "cell": "7a1def03-d124-4f3d-92dd-661025b22276",
        "part": "whole"
       },
       "id": "5e15fc47-57a3-46df-8284-27e8f071fcb9"
      }
     }
    },
    "2f5862d5-57a3-439e-b6bc-e43571b13a25": {
     "id": "2f5862d5-57a3-439e-b6bc-e43571b13a25",
     "prev": "308ca0c9-2b78-4118-ac10-38830770e76e",
     "regions": {
      "695cae58-91a6-4f5f-9ea6-2d3369b9ee1a": {
       "attrs": {
        "height": 0.8,
        "width": 0.8,
        "x": 0.1,
        "y": 0.1
       },
       "content": {
        "cell": "3b5360d9-4cd7-486c-81b5-059f2c4df436",
        "part": "whole"
       },
       "id": "695cae58-91a6-4f5f-9ea6-2d3369b9ee1a"
      }
     }
    },
    "308ca0c9-2b78-4118-ac10-38830770e76e": {
     "id": "308ca0c9-2b78-4118-ac10-38830770e76e",
     "prev": "f0cb4c93-f460-4d59-9996-2d4ceb2ddb22",
     "regions": {
      "f7604633-f133-46bc-9d88-686ad7ce55a8": {
       "attrs": {
        "height": 0.8,
        "width": 0.8,
        "x": 0.1,
        "y": 0.1
       },
       "content": {
        "cell": "19048088-0088-4688-af22-5d188e23cd90",
        "part": "whole"
       },
       "id": "f7604633-f133-46bc-9d88-686ad7ce55a8"
      }
     }
    },
    "333a3c65-d5fb-479d-b603-76e04014e1e3": {
     "id": "333a3c65-d5fb-479d-b603-76e04014e1e3",
     "prev": "e923a62d-dd15-4e73-aaad-ab57ac0243a8",
     "regions": {
      "938938a6-0983-44be-879a-25cf2087ead9": {
       "attrs": {
        "height": 0.8,
        "width": 0.8,
        "x": 0.1,
        "y": 0.1
       },
       "content": {
        "cell": "88642fdd-5f29-479b-b1b2-722713a6c82e",
        "part": "whole"
       },
       "id": "938938a6-0983-44be-879a-25cf2087ead9"
      }
     }
    },
    "34412945-3b02-4bb9-b8fe-24d71a0439e2": {
     "id": "34412945-3b02-4bb9-b8fe-24d71a0439e2",
     "prev": "5a660ca1-7cc0-4fba-a5e0-ef689d80d09a",
     "regions": {
      "8c04c964-b15b-4440-9a20-7f5d54101ccb": {
       "attrs": {
        "height": 0.8,
        "width": 0.8,
        "x": 0.1,
        "y": 0.1
       },
       "content": {
        "cell": "247e7f0b-ffcb-4359-9ee4-4adb6e660192",
        "part": "whole"
       },
       "id": "8c04c964-b15b-4440-9a20-7f5d54101ccb"
      }
     }
    },
    "34be4529-3608-4be1-b26f-b71d03ec630d": {
     "id": "34be4529-3608-4be1-b26f-b71d03ec630d",
     "prev": "6ca2be5e-8847-4e48-a125-94b3e2ce71c8",
     "regions": {
      "39e5676f-4f70-48d6-92bb-41832cd2affa": {
       "attrs": {
        "height": 0.8,
        "width": 0.8,
        "x": 0.1,
        "y": 0.1
       },
       "content": {
        "cell": "4bbe562f-3556-49f6-b197-7aaf306edf63",
        "part": "whole"
       },
       "id": "39e5676f-4f70-48d6-92bb-41832cd2affa"
      }
     }
    },
    "3501eb4b-4e6e-491e-982f-071fd4e7e39d": {
     "id": "3501eb4b-4e6e-491e-982f-071fd4e7e39d",
     "prev": "65da7df5-3a24-4d77-8fbb-8b8260783585",
     "regions": {
      "498d4579-ca25-4fbe-8454-f659aa387d77": {
       "attrs": {
        "height": 0.8,
        "width": 0.8,
        "x": 0.1,
        "y": 0.1
       },
       "content": {
        "cell": "20529684-eba0-4062-b667-794ced5a5774",
        "part": "whole"
       },
       "id": "498d4579-ca25-4fbe-8454-f659aa387d77"
      }
     }
    },
    "3e221eda-d3aa-43b0-bc7c-8f61c4cd2d91": {
     "id": "3e221eda-d3aa-43b0-bc7c-8f61c4cd2d91",
     "prev": "c96c369b-98ab-42a2-ba34-f5539c87a56f",
     "regions": {
      "ac860d40-d166-48cf-a63c-f104263efd47": {
       "attrs": {
        "height": 0.8,
        "width": 0.8,
        "x": 0.1,
        "y": 0.1
       },
       "content": {
        "cell": "1b0bc97a-9421-4fcc-b780-0cf537d9ae43",
        "part": "whole"
       },
       "id": "ac860d40-d166-48cf-a63c-f104263efd47"
      }
     }
    },
    "436e348f-ef88-4c19-95b9-31240f133140": {
     "id": "436e348f-ef88-4c19-95b9-31240f133140",
     "prev": "333a3c65-d5fb-479d-b603-76e04014e1e3",
     "regions": {
      "e9bb73e0-449d-4a34-80c1-a75d68a41ff5": {
       "attrs": {
        "height": 0.8,
        "width": 0.8,
        "x": 0.1,
        "y": 0.1
       },
       "content": {
        "cell": "e12b0ab3-27dc-4939-a2e8-6a21ec33573a",
        "part": "whole"
       },
       "id": "e9bb73e0-449d-4a34-80c1-a75d68a41ff5"
      }
     }
    },
    "45b0daf8-ae45-4e94-b204-cce72397d582": {
     "id": "45b0daf8-ae45-4e94-b204-cce72397d582",
     "prev": "27329fe3-13e6-459d-91f5-6d0b3e5dac79",
     "regions": {
      "d6c7623b-9a27-4574-aaaa-b599832a9d80": {
       "attrs": {
        "height": 0.8,
        "width": 0.8,
        "x": 0.1,
        "y": 0.1
       },
       "content": {
        "cell": "75863e53-c939-48a3-838e-ebb8e9c62694",
        "part": "whole"
       },
       "id": "d6c7623b-9a27-4574-aaaa-b599832a9d80"
      }
     }
    },
    "4a4afb66-071f-4cda-99ae-17c88244388a": {
     "id": "4a4afb66-071f-4cda-99ae-17c88244388a",
     "prev": "34be4529-3608-4be1-b26f-b71d03ec630d",
     "regions": {
      "4e6934ed-04a7-4842-b4c1-2c41e2ae110e": {
       "attrs": {
        "height": 0.8,
        "width": 0.8,
        "x": 0.1,
        "y": 0.1
       },
       "content": {
        "cell": "8ca9785c-9db8-40b5-8fa7-d18a648a6599",
        "part": "whole"
       },
       "id": "4e6934ed-04a7-4842-b4c1-2c41e2ae110e"
      }
     }
    },
    "552101ac-185f-49bd-abb6-3614a6020b9b": {
     "id": "552101ac-185f-49bd-abb6-3614a6020b9b",
     "prev": "9c6a8697-9cfb-4195-af90-8c386f45ea19",
     "regions": {
      "ccaedbd6-e45e-4c30-bda8-b237dd602566": {
       "attrs": {
        "height": 0.8,
        "width": 0.8,
        "x": 0.1,
        "y": 0.1
       },
       "content": {
        "cell": "335a6992-b2d6-411f-9e7a-d1d32c2e9a7a",
        "part": "whole"
       },
       "id": "ccaedbd6-e45e-4c30-bda8-b237dd602566"
      }
     }
    },
    "5a660ca1-7cc0-4fba-a5e0-ef689d80d09a": {
     "id": "5a660ca1-7cc0-4fba-a5e0-ef689d80d09a",
     "prev": "dacd9d18-cefb-4c35-bd04-79f469b08e25",
     "regions": {
      "0a606ad1-bb58-4fce-b06c-ddd8f0e056ea": {
       "attrs": {
        "height": 0.8,
        "width": 0.8,
        "x": 0.1,
        "y": 0.1
       },
       "content": {
        "cell": "eba25e27-6668-4b67-b0cd-51d35b5e420c",
        "part": "whole"
       },
       "id": "0a606ad1-bb58-4fce-b06c-ddd8f0e056ea"
      }
     }
    },
    "5d62536a-90fd-40b2-a9e9-849be4540e7f": {
     "id": "5d62536a-90fd-40b2-a9e9-849be4540e7f",
     "prev": "34412945-3b02-4bb9-b8fe-24d71a0439e2",
     "regions": {
      "cb7833dd-4b40-4708-9cce-10509b2e0a78": {
       "attrs": {
        "height": 0.8,
        "width": 0.8,
        "x": 0.1,
        "y": 0.1
       },
       "content": {
        "cell": "03b0ba75-52fd-484f-8caa-5d5d9992d7d6",
        "part": "whole"
       },
       "id": "cb7833dd-4b40-4708-9cce-10509b2e0a78"
      }
     }
    },
    "5e8ee44b-c96b-4882-b5a4-dbc335e441ce": {
     "id": "5e8ee44b-c96b-4882-b5a4-dbc335e441ce",
     "prev": "d319b50a-a2f7-48a7-8d8f-61dfcfadb103",
     "regions": {
      "5c8b0d36-1b08-4c70-ad73-daca31572eae": {
       "attrs": {
        "height": 0.8,
        "width": 0.8,
        "x": 0.1,
        "y": 0.1
       },
       "content": {
        "cell": "73713386-476b-48d6-ac11-0696dd716378",
        "part": "whole"
       },
       "id": "5c8b0d36-1b08-4c70-ad73-daca31572eae"
      }
     }
    },
    "608f7716-5041-46b6-a82f-c74c2c855451": {
     "id": "608f7716-5041-46b6-a82f-c74c2c855451",
     "prev": "11cf8826-bc70-4450-aeaf-2e943882ea66",
     "regions": {
      "2c372ba5-737b-4f35-923d-e66ce3e476e5": {
       "attrs": {
        "height": 0.8,
        "width": 0.8,
        "x": 0.1,
        "y": 0.1
       },
       "content": {
        "cell": "be94ae7e-5dc1-4db6-a6cf-b44abb694119",
        "part": "whole"
       },
       "id": "2c372ba5-737b-4f35-923d-e66ce3e476e5"
      }
     }
    },
    "65da7df5-3a24-4d77-8fbb-8b8260783585": {
     "id": "65da7df5-3a24-4d77-8fbb-8b8260783585",
     "prev": "2d2ea516-450d-424d-8945-4bf59aa1e9ae",
     "regions": {
      "c48fb741-2f1c-460d-a65d-916a902c05b0": {
       "attrs": {
        "height": 0.8,
        "width": 0.8,
        "x": 0.1,
        "y": 0.1
       },
       "content": {
        "cell": "a7270f07-33c6-49fb-9f23-5d6a89145406",
        "part": "whole"
       },
       "id": "c48fb741-2f1c-460d-a65d-916a902c05b0"
      }
     }
    },
    "6c8744e7-faae-4a31-adff-a99ca596905b": {
     "id": "6c8744e7-faae-4a31-adff-a99ca596905b",
     "prev": "6d8b7b76-d1ce-44e3-941d-fc6073543cbb",
     "regions": {
      "53ea31a5-833d-4cdf-b520-4d58b3ede0ff": {
       "attrs": {
        "height": 0.8,
        "width": 0.8,
        "x": 0.1,
        "y": 0.1
       },
       "content": {
        "cell": "a4823c7e-2ea9-47e9-8989-0512b1635eb6",
        "part": "whole"
       },
       "id": "53ea31a5-833d-4cdf-b520-4d58b3ede0ff"
      }
     }
    },
    "6ca2be5e-8847-4e48-a125-94b3e2ce71c8": {
     "id": "6ca2be5e-8847-4e48-a125-94b3e2ce71c8",
     "prev": "812c7b2d-6cc1-48bb-aeac-78bd2122a214",
     "regions": {
      "1bcd3a8d-2519-4b24-b877-3a4665e58042": {
       "attrs": {
        "height": 0.8,
        "width": 0.8,
        "x": 0.1,
        "y": 0.1
       },
       "content": {
        "cell": "0e0ba48f-fdd1-430d-ba8b-a524a967a86d",
        "part": "whole"
       },
       "id": "1bcd3a8d-2519-4b24-b877-3a4665e58042"
      }
     }
    },
    "6d8b7b76-d1ce-44e3-941d-fc6073543cbb": {
     "id": "6d8b7b76-d1ce-44e3-941d-fc6073543cbb",
     "prev": "a39c6f34-2bd1-4c89-9cb1-e3fbfab84976",
     "regions": {
      "8809060d-58c6-4c89-ba73-82daa94d2761": {
       "attrs": {
        "height": 0.8,
        "width": 0.8,
        "x": 0.1,
        "y": 0.1
       },
       "content": {
        "cell": "40d00424-2709-4dbb-abbf-81a51643dbd1",
        "part": "whole"
       },
       "id": "8809060d-58c6-4c89-ba73-82daa94d2761"
      }
     }
    },
    "812c7b2d-6cc1-48bb-aeac-78bd2122a214": {
     "id": "812c7b2d-6cc1-48bb-aeac-78bd2122a214",
     "prev": "3501eb4b-4e6e-491e-982f-071fd4e7e39d",
     "regions": {
      "bddc5d8c-ce09-4fb6-9d77-84d87943ec0a": {
       "attrs": {
        "height": 0.8,
        "width": 0.8,
        "x": 0.1,
        "y": 0.1
       },
       "content": {
        "cell": "5f90b671-1517-4289-af08-7cfe14b5139d",
        "part": "whole"
       },
       "id": "bddc5d8c-ce09-4fb6-9d77-84d87943ec0a"
      }
     }
    },
    "9835ee34-19dd-4888-bbd3-8ed0dfeb8b3b": {
     "id": "9835ee34-19dd-4888-bbd3-8ed0dfeb8b3b",
     "prev": "e8edfa04-b119-40f0-93db-98867b4a548c",
     "regions": {
      "ef300e9b-6ba0-4819-873e-6ed7ec72223f": {
       "attrs": {
        "height": 0.8,
        "width": 0.8,
        "x": 0.1,
        "y": 0.1
       },
       "content": {
        "cell": "eedf063e-87e6-4dc9-bfd0-fcc492f2286e",
        "part": "whole"
       },
       "id": "ef300e9b-6ba0-4819-873e-6ed7ec72223f"
      }
     }
    },
    "9bf7a855-fc58-492d-8b36-7cb00b3a86e1": {
     "id": "9bf7a855-fc58-492d-8b36-7cb00b3a86e1",
     "prev": "b80f6103-3e19-4bf1-9230-b4ff4d0fe5e5",
     "regions": {
      "327da18f-d681-405d-bd99-a63128ed9788": {
       "attrs": {
        "height": 0.8,
        "width": 0.8,
        "x": 0.1,
        "y": 0.1
       },
       "content": {
        "cell": "c1b7fc11-8229-4371-84da-26700d296fab",
        "part": "whole"
       },
       "id": "327da18f-d681-405d-bd99-a63128ed9788"
      }
     }
    },
    "9c6a8697-9cfb-4195-af90-8c386f45ea19": {
     "id": "9c6a8697-9cfb-4195-af90-8c386f45ea19",
     "prev": "4a4afb66-071f-4cda-99ae-17c88244388a",
     "regions": {
      "d33cdf26-1033-46e8-b9fc-c5aee3981863": {
       "attrs": {
        "height": 0.8,
        "width": 0.8,
        "x": 0.1,
        "y": 0.1
       },
       "content": {
        "cell": "ad5692ff-a0bc-4e5b-ad57-5442b45f77b0",
        "part": "whole"
       },
       "id": "d33cdf26-1033-46e8-b9fc-c5aee3981863"
      }
     }
    },
    "9dbb0c60-5ee6-44e9-b165-a59ee2ee2b77": {
     "id": "9dbb0c60-5ee6-44e9-b165-a59ee2ee2b77",
     "prev": "be985401-ecf3-4bb5-a7a0-795088d7fa67",
     "regions": {
      "bf75cbbb-9b04-4578-a895-a3a1a60368e9": {
       "attrs": {
        "height": 0.8,
        "width": 0.8,
        "x": 0.1,
        "y": 0.1
       },
       "content": {
        "cell": "878035b3-d0c6-4023-b563-e6a488f2f6b5",
        "part": "whole"
       },
       "id": "bf75cbbb-9b04-4578-a895-a3a1a60368e9"
      }
     }
    },
    "9f543363-4686-460d-a992-8ea9a452eb99": {
     "id": "9f543363-4686-460d-a992-8ea9a452eb99",
     "prev": "0be82f17-42b4-4a6e-aa55-e79db4b8e73e",
     "regions": {
      "2f388c71-71e3-4e5a-ab88-5125cb5d688e": {
       "attrs": {
        "height": 0.8,
        "width": 0.8,
        "x": 0.1,
        "y": 0.1
       },
       "content": {
        "cell": "5beeb42a-0925-49c8-b49d-64558b74bc17",
        "part": "whole"
       },
       "id": "2f388c71-71e3-4e5a-ab88-5125cb5d688e"
      }
     }
    },
    "a23a6050-0927-4f37-9dc3-ae03863af560": {
     "id": "a23a6050-0927-4f37-9dc3-ae03863af560",
     "prev": "3e221eda-d3aa-43b0-bc7c-8f61c4cd2d91",
     "regions": {
      "8493a13f-0fd2-48d9-8893-f9e6344088ed": {
       "attrs": {
        "height": 0.8,
        "width": 0.8,
        "x": 0.1,
        "y": 0.1
       },
       "content": {
        "cell": "6ae5f988-e2a5-4625-8ab4-f8b60683dec9",
        "part": "whole"
       },
       "id": "8493a13f-0fd2-48d9-8893-f9e6344088ed"
      }
     }
    },
    "a39c6f34-2bd1-4c89-9cb1-e3fbfab84976": {
     "id": "a39c6f34-2bd1-4c89-9cb1-e3fbfab84976",
     "prev": "cf685855-170d-45af-90f6-72a5e8e9a463",
     "regions": {
      "2ea6dd31-7b4f-4cef-a9f5-4de90ec75c20": {
       "attrs": {
        "height": 0.8,
        "width": 0.8,
        "x": 0.1,
        "y": 0.1
       },
       "content": {
        "cell": "7f641418-194a-4fa6-a945-531f205febec",
        "part": "whole"
       },
       "id": "2ea6dd31-7b4f-4cef-a9f5-4de90ec75c20"
      }
     }
    },
    "b2f1b68f-4523-49a1-a5d4-3dbd971f9890": {
     "id": "b2f1b68f-4523-49a1-a5d4-3dbd971f9890",
     "prev": "45b0daf8-ae45-4e94-b204-cce72397d582",
     "regions": {
      "14f42c6c-f90f-4bf1-823d-e951ccb92308": {
       "attrs": {
        "height": 0.8,
        "width": 0.8,
        "x": 0.1,
        "y": 0.1
       },
       "content": {
        "cell": "85952874-6d84-4955-8fcf-2b30c79175c1",
        "part": "whole"
       },
       "id": "14f42c6c-f90f-4bf1-823d-e951ccb92308"
      }
     }
    },
    "b80f6103-3e19-4bf1-9230-b4ff4d0fe5e5": {
     "id": "b80f6103-3e19-4bf1-9230-b4ff4d0fe5e5",
     "prev": "436e348f-ef88-4c19-95b9-31240f133140",
     "regions": {
      "5c8aefde-6808-4417-8b9a-a7fa078665ac": {
       "attrs": {
        "height": 0.8,
        "width": 0.8,
        "x": 0.1,
        "y": 0.1
       },
       "content": {
        "cell": "8053818d-5540-43b4-a01d-cdbaa14dc4e0",
        "part": "whole"
       },
       "id": "5c8aefde-6808-4417-8b9a-a7fa078665ac"
      }
     }
    },
    "bcad6ead-f2d5-49af-a7d3-a18330ec04e5": {
     "id": "bcad6ead-f2d5-49af-a7d3-a18330ec04e5",
     "prev": "9bf7a855-fc58-492d-8b36-7cb00b3a86e1",
     "regions": {
      "659d217b-fda0-4a16-b112-41572e2b2bc7": {
       "attrs": {
        "height": 0.8,
        "width": 0.8,
        "x": 0.1,
        "y": 0.1
       },
       "content": {
        "cell": "59827144-f22a-4578-814c-e580d1abe7c9",
        "part": "whole"
       },
       "id": "659d217b-fda0-4a16-b112-41572e2b2bc7"
      }
     }
    },
    "be985401-ecf3-4bb5-a7a0-795088d7fa67": {
     "id": "be985401-ecf3-4bb5-a7a0-795088d7fa67",
     "prev": "552101ac-185f-49bd-abb6-3614a6020b9b",
     "regions": {
      "268fe48e-6e02-4dbf-8ea5-3fa995987b9e": {
       "attrs": {
        "height": 0.8,
        "width": 0.8,
        "x": 0.1,
        "y": 0.1
       },
       "content": {
        "cell": "3957878a-e5ce-4a60-a33f-9693aa1cada9",
        "part": "whole"
       },
       "id": "268fe48e-6e02-4dbf-8ea5-3fa995987b9e"
      }
     }
    },
    "c93baf16-385b-4929-9e78-0e52655486bd": {
     "id": "c93baf16-385b-4929-9e78-0e52655486bd",
     "prev": "5e8ee44b-c96b-4882-b5a4-dbc335e441ce",
     "regions": {
      "f9f9d06e-e6c2-4390-960e-32f098dddd6c": {
       "attrs": {
        "height": 0.8,
        "width": 0.8,
        "x": 0.1,
        "y": 0.1
       },
       "content": {
        "cell": "c8fa2d95-8581-46da-8481-ed93690068a4",
        "part": "whole"
       },
       "id": "f9f9d06e-e6c2-4390-960e-32f098dddd6c"
      }
     }
    },
    "c96c369b-98ab-42a2-ba34-f5539c87a56f": {
     "id": "c96c369b-98ab-42a2-ba34-f5539c87a56f",
     "prev": "2f5862d5-57a3-439e-b6bc-e43571b13a25",
     "regions": {
      "0caedd47-1196-47dd-a0f6-9774b0791afd": {
       "attrs": {
        "height": 0.8,
        "width": 0.8,
        "x": 0.1,
        "y": 0.1
       },
       "content": {
        "cell": "011df478-e438-435b-b9da-610422746857",
        "part": "whole"
       },
       "id": "0caedd47-1196-47dd-a0f6-9774b0791afd"
      }
     }
    },
    "cedac62c-af0e-4e6f-b6e2-8f8b0fb42294": {
     "id": "cedac62c-af0e-4e6f-b6e2-8f8b0fb42294",
     "prev": "dbd27e0f-d881-4b9a-bb79-4e56522efe53",
     "regions": {
      "59dcf99a-0975-4cd7-a2c8-6a967edce404": {
       "attrs": {
        "height": 0.8,
        "width": 0.8,
        "x": 0.1,
        "y": 0.1
       },
       "content": {
        "cell": "1c2f94c9-62ca-4626-ae7e-40f452077b55",
        "part": "whole"
       },
       "id": "59dcf99a-0975-4cd7-a2c8-6a967edce404"
      }
     }
    },
    "cf685855-170d-45af-90f6-72a5e8e9a463": {
     "id": "cf685855-170d-45af-90f6-72a5e8e9a463",
     "prev": "e029d447-54ee-447a-b125-dfa3db119028",
     "regions": {
      "2dfd6e28-6a31-4103-9f96-34b4f655d3d1": {
       "attrs": {
        "height": 0.8,
        "width": 0.8,
        "x": 0.1,
        "y": 0.1
       },
       "content": {
        "cell": "3c75c71a-ca2c-41ab-aee9-e00473a26aed",
        "part": "whole"
       },
       "id": "2dfd6e28-6a31-4103-9f96-34b4f655d3d1"
      }
     }
    },
    "cf9f8afb-ec77-4cd9-9944-120f12ef2e52": {
     "id": "cf9f8afb-ec77-4cd9-9944-120f12ef2e52",
     "prev": "d51fc7b2-041f-4f91-8b7f-1d1cb3f8da22",
     "regions": {
      "ee35d447-7f3d-486b-a889-a504b19a674d": {
       "attrs": {
        "height": 0.8,
        "width": 0.8,
        "x": 0.1,
        "y": 0.1
       },
       "content": {
        "cell": "bd8b2627-2e99-40d7-a3ec-5ebb050937e6",
        "part": "whole"
       },
       "id": "ee35d447-7f3d-486b-a889-a504b19a674d"
      }
     }
    },
    "cfe52c53-13ce-42c1-bdc2-a77be4a28bdf": {
     "id": "cfe52c53-13ce-42c1-bdc2-a77be4a28bdf",
     "prev": "d06c4a95-2e1c-4aaf-a0ee-ecc3122d6540",
     "regions": {
      "55cfd739-2bc4-465a-bdb0-7120576b2209": {
       "attrs": {
        "height": 0.8,
        "width": 0.8,
        "x": 0.1,
        "y": 0.1
       },
       "content": {
        "cell": "68d1355e-2db4-4988-9d8d-07386b18973e",
        "part": "whole"
       },
       "id": "55cfd739-2bc4-465a-bdb0-7120576b2209"
      }
     }
    },
    "d06c4a95-2e1c-4aaf-a0ee-ecc3122d6540": {
     "id": "d06c4a95-2e1c-4aaf-a0ee-ecc3122d6540",
     "prev": "f021d770-6ac0-4734-9bb1-c18fab0a617d",
     "regions": {
      "eb04b3a9-bd9a-405b-b735-44aadf24524d": {
       "attrs": {
        "height": 0.8,
        "width": 0.8,
        "x": 0.1,
        "y": 0.1
       },
       "content": {
        "cell": "ef216193-6bce-4930-9105-8a10738c448e",
        "part": "whole"
       },
       "id": "eb04b3a9-bd9a-405b-b735-44aadf24524d"
      }
     }
    },
    "d319b50a-a2f7-48a7-8d8f-61dfcfadb103": {
     "id": "d319b50a-a2f7-48a7-8d8f-61dfcfadb103",
     "prev": "9835ee34-19dd-4888-bbd3-8ed0dfeb8b3b",
     "regions": {
      "6a2c6832-ee8b-4794-9a3c-fc9fcf19b9d9": {
       "attrs": {
        "height": 0.8,
        "width": 0.8,
        "x": 0.1,
        "y": 0.1
       },
       "content": {
        "cell": "fc72562d-5e64-4196-9df9-9f37b28d90bf",
        "part": "whole"
       },
       "id": "6a2c6832-ee8b-4794-9a3c-fc9fcf19b9d9"
      }
     }
    },
    "d51fc7b2-041f-4f91-8b7f-1d1cb3f8da22": {
     "id": "d51fc7b2-041f-4f91-8b7f-1d1cb3f8da22",
     "prev": "eac997dc-481d-45e9-848e-a491e5777f04",
     "regions": {
      "ba8ca353-526e-45ff-b025-f2a260b26329": {
       "attrs": {
        "height": 0.8,
        "width": 0.8,
        "x": 0.1,
        "y": 0.1
       },
       "content": {
        "cell": "919f3dfa-d46e-4d9b-a5f5-a065eeb56aed",
        "part": "whole"
       },
       "id": "ba8ca353-526e-45ff-b025-f2a260b26329"
      }
     }
    },
    "dacd9d18-cefb-4c35-bd04-79f469b08e25": {
     "id": "dacd9d18-cefb-4c35-bd04-79f469b08e25",
     "prev": "9dbb0c60-5ee6-44e9-b165-a59ee2ee2b77",
     "regions": {
      "225aef37-1d86-4ee2-af63-8c8cd51daaaa": {
       "attrs": {
        "height": 0.8,
        "width": 0.8,
        "x": 0.1,
        "y": 0.1
       },
       "content": {
        "cell": "2a32995f-676d-4054-b70c-8dd95b3fa150",
        "part": "whole"
       },
       "id": "225aef37-1d86-4ee2-af63-8c8cd51daaaa"
      }
     }
    },
    "dbd27e0f-d881-4b9a-bb79-4e56522efe53": {
     "id": "dbd27e0f-d881-4b9a-bb79-4e56522efe53",
     "prev": "cf9f8afb-ec77-4cd9-9944-120f12ef2e52",
     "regions": {
      "a0fe5bc3-f06e-4efa-b4cb-dd9d3797a2be": {
       "attrs": {
        "height": 0.8,
        "width": 0.8,
        "x": 0.1,
        "y": 0.1
       },
       "content": {
        "cell": "de16c508-7a4a-45ca-bf5d-5bc3b744b93c",
        "part": "whole"
       },
       "id": "a0fe5bc3-f06e-4efa-b4cb-dd9d3797a2be"
      }
     }
    },
    "e029d447-54ee-447a-b125-dfa3db119028": {
     "id": "e029d447-54ee-447a-b125-dfa3db119028",
     "prev": null,
     "regions": {
      "9c3ba712-c92b-405e-841f-fb639435df26": {
       "attrs": {
        "height": 0.8,
        "width": 0.8,
        "x": 0.1,
        "y": 0.1
       },
       "content": {
        "cell": "c2f504ed-15cb-4260-99b9-b7ea095fb7ff",
        "part": "whole"
       },
       "id": "9c3ba712-c92b-405e-841f-fb639435df26"
      }
     }
    },
    "e8354900-c03c-4baa-8809-6304ea4fd746": {
     "id": "e8354900-c03c-4baa-8809-6304ea4fd746",
     "prev": "5d62536a-90fd-40b2-a9e9-849be4540e7f",
     "regions": {}
    },
    "e8edfa04-b119-40f0-93db-98867b4a548c": {
     "id": "e8edfa04-b119-40f0-93db-98867b4a548c",
     "prev": "bcad6ead-f2d5-49af-a7d3-a18330ec04e5",
     "regions": {
      "d66cc4e6-e4e3-44d1-825e-e05d4821c7f3": {
       "attrs": {
        "height": 0.8,
        "width": 0.8,
        "x": 0.1,
        "y": 0.1
       },
       "content": {
        "cell": "8dc848cf-6dc2-4772-971a-434d2c37a6c3",
        "part": "whole"
       },
       "id": "d66cc4e6-e4e3-44d1-825e-e05d4821c7f3"
      }
     }
    },
    "e923a62d-dd15-4e73-aaad-ab57ac0243a8": {
     "id": "e923a62d-dd15-4e73-aaad-ab57ac0243a8",
     "prev": "fec2e771-d09a-4326-bc0e-a2dc540a41ca",
     "regions": {
      "4798a518-a06c-48f8-934c-ab645c549b9a": {
       "attrs": {
        "height": 0.8,
        "width": 0.8,
        "x": 0.1,
        "y": 0.1
       },
       "content": {
        "cell": "352be0a3-2792-4090-a8fc-8eafeccc292f",
        "part": "whole"
       },
       "id": "4798a518-a06c-48f8-934c-ab645c549b9a"
      }
     }
    },
    "eac997dc-481d-45e9-848e-a491e5777f04": {
     "id": "eac997dc-481d-45e9-848e-a491e5777f04",
     "prev": "a23a6050-0927-4f37-9dc3-ae03863af560",
     "regions": {
      "3e645273-2903-41cd-b9ce-c57163fc82a4": {
       "attrs": {
        "height": 0.8,
        "width": 0.8,
        "x": 0.1,
        "y": 0.1
       },
       "content": {
        "cell": "5b0d9b76-9950-45c9-ae22-befe6aa2cbaf",
        "part": "whole"
       },
       "id": "3e645273-2903-41cd-b9ce-c57163fc82a4"
      }
     }
    },
    "f021d770-6ac0-4734-9bb1-c18fab0a617d": {
     "id": "f021d770-6ac0-4734-9bb1-c18fab0a617d",
     "prev": "9f543363-4686-460d-a992-8ea9a452eb99",
     "regions": {
      "cd6bcadc-13cc-4f3f-aa23-9b580a657170": {
       "attrs": {
        "height": 0.8,
        "width": 0.8,
        "x": 0.1,
        "y": 0.1
       },
       "content": {
        "cell": "a634f87e-f1cc-4ef5-b86f-a992df580ad1",
        "part": "whole"
       },
       "id": "cd6bcadc-13cc-4f3f-aa23-9b580a657170"
      }
     }
    },
    "f0cb4c93-f460-4d59-9996-2d4ceb2ddb22": {
     "id": "f0cb4c93-f460-4d59-9996-2d4ceb2ddb22",
     "prev": "b2f1b68f-4523-49a1-a5d4-3dbd971f9890",
     "regions": {
      "c6ea3563-9cbd-45a5-b652-a3a7493496a1": {
       "attrs": {
        "height": 0.8,
        "width": 0.8,
        "x": 0.1,
        "y": 0.1
       },
       "content": {
        "cell": "89dbf524-20b7-4133-a072-b68e87e9ef0b",
        "part": "whole"
       },
       "id": "c6ea3563-9cbd-45a5-b652-a3a7493496a1"
      }
     }
    },
    "fec2e771-d09a-4326-bc0e-a2dc540a41ca": {
     "id": "fec2e771-d09a-4326-bc0e-a2dc540a41ca",
     "prev": "6c8744e7-faae-4a31-adff-a99ca596905b",
     "regions": {
      "290c051c-c52c-44f8-801b-1e679b8650f7": {
       "attrs": {
        "height": 0.8,
        "width": 0.8,
        "x": 0.1,
        "y": 0.1
       },
       "content": {
        "cell": "8a085c00-e9cc-4837-8888-0cd2a3cdc9d8",
        "part": "whole"
       },
       "id": "290c051c-c52c-44f8-801b-1e679b8650f7"
      }
     }
    }
   },
   "themes": {}
  }
 },
 "nbformat": 4,
 "nbformat_minor": 2
}
